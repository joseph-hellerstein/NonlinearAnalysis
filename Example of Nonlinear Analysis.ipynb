{
 "cells": [
  {
   "cell_type": "markdown",
   "metadata": {},
   "source": [
    "# Example Of Analyzing a Nonlinear Biochemical System"
   ]
  },
  {
   "cell_type": "code",
   "execution_count": 2,
   "metadata": {},
   "outputs": [
    {
     "name": "stdout",
     "output_type": "stream",
     "text": [
      "IPython console for SymPy 1.7 (Python 3.6.9-64-bit) (ground types: python)\n",
      "\n",
      "These commands were executed:\n",
      ">>> from __future__ import division\n",
      ">>> from sympy import *\n",
      ">>> x, y, z, t = symbols('x y z t')\n",
      ">>> k, m, n = symbols('k m n', integer=True)\n",
      ">>> f, g, h = symbols('f g h', cls=Function)\n",
      ">>> init_printing()\n",
      "\n",
      "Documentation can be found at https://docs.sympy.org/1.7/\n",
      "\n"
     ]
    }
   ],
   "source": [
    "import sympy\n",
    "import numpy as np\n",
    "import pandas as pd\n",
    "import matplotlib.pyplot as plt\n",
    "from sympy import init_session\n",
    "init_session()"
   ]
  },
  {
   "cell_type": "code",
   "execution_count": 3,
   "metadata": {},
   "outputs": [
    {
     "data": {
      "image/png": "[encoded data removed]",
      "text/latex": [
       "$\\displaystyle \\int \\sqrt{\\frac{1}{x}}\\, dx$"
      ],
      "text/plain": [
       "⌠           \n",
       "⎮     ___   \n",
       "⎮    ╱ 1    \n",
       "⎮   ╱  ─  dx\n",
       "⎮ ╲╱   x    \n",
       "⌡           "
      ]
     },
     "execution_count": 3,
     "metadata": {},
     "output_type": "execute_result"
    }
   ],
   "source": [
    "Integral(sqrt(1/x),x)"
   ]
  },
  {
   "cell_type": "code",
   "execution_count": 22,
   "metadata": {},
   "outputs": [
    {
     "data": {
      "image/png": "[encoded data removed]",
      "text/latex": [
       "$\\displaystyle \\left[ \\left( \\frac{A k_{1} x}{k_{1} x + k_{2}}, \\  \\frac{B k_{1} k_{3} x}{k_{1} k_{3} x - k_{2} k_{4}}\\right)\\right]$"
      ],
      "text/plain": [
       "⎡⎛  A⋅k₁⋅x      B⋅k₁⋅k₃⋅x   ⎞⎤\n",
       "⎢⎜─────────, ───────────────⎟⎥\n",
       "⎣⎝k₁⋅x + k₂  k₁⋅k₃⋅x - k₂⋅k₄⎠⎦"
      ]
     },
     "execution_count": 22,
     "metadata": {},
     "output_type": "execute_result"
    }
   ],
   "source": [
    "da, A, a, x, k1, k2, db, b, B, k3, k4 = symbols('da A a x k1 k2 db b B k3 k4')\n",
    "da = -(A - a)*x*k1+ k2*a\n",
    "db = -k3*(B-b)*a - b*k4*(A-a)\n",
    "solve([da, db], [a, b])"
   ]
  },
  {
   "cell_type": "code",
   "execution_count": null,
   "metadata": {},
   "outputs": [],
   "source": []
  },
  {
   "cell_type": "code",
   "execution_count": 13,
   "metadata": {},
   "outputs": [
    {
     "name": "stdout",
     "output_type": "stream",
     "text": [
      "xdd =  (g + zdd)*(x - xZ)/z\n",
      "ydd =  (-Ldz*z + g*x*y - g*xZ*y + g*z*zZ + x*y*zdd - xZ*y*zdd + z*zZ*zdd)/(x*z)\n",
      "Ldy =  (-Ldz*z + g*x*yZ - g*xZ*y + g*z*zZ + x*yZ*zdd - xZ*y*zdd + z*zZ*zdd)/x\n"
     ]
    }
   ],
   "source": [
    "from sympy import solve\n",
    "\n",
    "xdd, z, dxx, xZ, x, g, zdd, ydd, yZ, y, Ldy, zZ, zdd, Ldz = symbols(\"xdd z dxx xZ x g zdd ydd yZ y Ldy zZ zdd Ldz\")\n",
    "\n",
    "E1 = z * xdd + (xZ - x) * (g + zdd)\n",
    "E2 = z * ydd + (yZ - y) * (g + zdd) - Ldy\n",
    "E3 = -y * xdd + x * ydd - zZ * (g + zdd) + Ldz\n",
    "\n",
    "sols = solve([E1, E2, E3], [xdd, ydd, Ldy])\n",
    "\n",
    "print (\"xdd = \", (sols[xdd]).factor())\n",
    "print (\"ydd = \", (sols[ydd]).factor())\n",
    "print (\"Ldy = \", (sols[Ldy]).factor())"
   ]
  }
 ],
 "metadata": {
  "kernelspec": {
   "display_name": "Python 3",
   "language": "python",
   "name": "python3"
  },
  "language_info": {
   "codemirror_mode": {
    "name": "ipython",
    "version": 3
   },
   "file_extension": ".py",
   "mimetype": "text/x-python",
   "name": "python",
   "nbconvert_exporter": "python",
   "pygments_lexer": "ipython3",
   "version": "3.6.9"
  }
 },
 "nbformat": 4,
 "nbformat_minor": 4
}
